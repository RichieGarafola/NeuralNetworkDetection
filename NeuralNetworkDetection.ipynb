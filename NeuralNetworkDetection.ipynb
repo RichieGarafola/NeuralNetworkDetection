{
 "cells": [
  {
   "cell_type": "markdown",
   "id": "a7451772",
   "metadata": {
    "tags": []
   },
   "source": [
    "\n",
    "# Neural Network-Based Object Detection\n",
    "\n",
    "This notebook demonstrates the use of pre-trained TensorFlow models in conjunction with OpenCV to perform object detection on a dataset of images.\n",
    "We will use two different models:\n",
    "1. A face detection model\n",
    "2. A general object detection model (used for identifying people)\n",
    "\n",
    "---\n",
    "\n",
    "## Objectives\n",
    "\n",
    "- Load and use pre-trained neural network models.\n",
    "- Use OpenCV's DNN module to perform object detection.\n",
    "- Sort scene images into folders based on detection results.\n",
    "- Analyze detection accuracy using provided manifest files.\n",
    "\n",
    "---\n"
   ]
  },
  {
   "cell_type": "code",
   "execution_count": 1,
   "id": "37b17231",
   "metadata": {
    "tags": []
   },
   "outputs": [],
   "source": [
    "\n",
    "import cv2\n",
    "import os\n",
    "import pandas as pd\n",
    "import json\n",
    "from pathlib import Path\n",
    "import numpy as np\n",
    "from matplotlib import pyplot as plt\n",
    "from IPython.display import display, Image\n",
    "from sklearn.metrics import confusion_matrix, ConfusionMatrixDisplay\n"
   ]
  },
  {
   "cell_type": "markdown",
   "id": "02590e76",
   "metadata": {},
   "source": [
    "\n",
    "## Face Detection Using a Pretrained TensorFlow Model\n",
    "\n",
    "We begin by loading a neural network model designed for detecting human faces. This model requires a `.pb` and `.pbtxt` file which define the weights and configuration of the neural network.\n",
    "\n",
    "We'll use OpenCV's `dnn.readNetFromTensorflow()` and process each image using `cv2.dnn.blobFromImage()` to prepare it for inference.\n"
   ]
  },
  {
   "cell_type": "code",
   "execution_count": 2,
   "id": "ef8790e7",
   "metadata": {},
   "outputs": [
    {
     "name": "stdout",
     "output_type": "stream",
     "text": [
      "Found 30 images.\n"
     ]
    }
   ],
   "source": [
    "\n",
    "# Define model files (update these if needed)\n",
    "model_path = \"resources-nn_models/opencv_face_detector_uint8.pb\"\n",
    "config_path = \"resources-nn_models/opencv_face_detector.pbtxt\"\n",
    "\n",
    "# Load the pretrained model\n",
    "net = cv2.dnn.readNetFromTensorflow(model_path, config_path)\n",
    "\n",
    "# Define input directory\n",
    "input_dir = \"resources-nn_dataset_1\"\n",
    "output_dir = Path(\"output/faces\")\n",
    "(output_dir / \"positive\").mkdir(parents=True, exist_ok=True)\n",
    "(output_dir / \"negative\").mkdir(parents=True, exist_ok=True)\n",
    "\n",
    "# Detection threshold\n",
    "threshold = 0.5\n",
    "\n",
    "# Process images\n",
    "image_files = [f for f in Path(input_dir).iterdir() if f.suffix in [\".jpg\", \".png\"]]\n",
    "print(f\"Found {len(image_files)} images.\")\n",
    "\n",
    "for img_path in image_files:\n",
    "    img = cv2.imread(str(img_path))\n",
    "    h, w = img.shape[:2]\n",
    "    blob = cv2.dnn.blobFromImage(img, 1.0, (300, 300), (104, 117, 123), False, False)\n",
    "    net.setInput(blob)\n",
    "    detections = net.forward()\n",
    "\n",
    "    detected = False\n",
    "    for i in range(detections.shape[2]):\n",
    "        confidence = detections[0, 0, i, 2]\n",
    "        if confidence > threshold:\n",
    "            box = detections[0, 0, i, 3:7] * np.array([w, h, w, h])\n",
    "            (x1, y1, x2, y2) = box.astype(\"int\")\n",
    "            cv2.rectangle(img, (x1, y1), (x2, y2), (0, 255, 0), 2)\n",
    "            detected = True\n",
    "\n",
    "    save_path = output_dir / (\"positive\" if detected else \"negative\") / img_path.name\n",
    "    cv2.imwrite(str(save_path), img)\n"
   ]
  },
  {
   "cell_type": "markdown",
   "id": "5c79fcd6",
   "metadata": {},
   "source": [
    "\n",
    "## Person Detection Using SSD and Class JSON File\n",
    "\n",
    "Now we use a general object detection model (SSD + Inception) that can detect multiple objects and classify them. We use a `classes.json` file to map the class index to a label.\n"
   ]
  },
  {
   "cell_type": "code",
   "execution_count": 3,
   "id": "e4dfd507",
   "metadata": {},
   "outputs": [],
   "source": [
    "# Load model\n",
    "net = cv2.dnn.readNetFromTensorflow(\n",
    "    \"resources-nn_models/frozen_inference_graph.pb\",\n",
    "    \"resources-nn_models/ssd_inception_v2_coco_2017_11_17.pbtxt\"\n",
    ")\n",
    "\n",
    "\n",
    "\n",
    "# Load class labels\n",
    "with open(\"resources-nn_models/classes.json\") as f:\n",
    "    class_names = json.load(f)\n",
    "\n",
    "# Target class\n",
    "target_class = \"person\"\n",
    "target_index = class_names.index(target_class)\n",
    "\n",
    "# Output folder\n",
    "output_dir = Path(\"output/persons\")\n",
    "(output_dir / \"positive\").mkdir(parents=True, exist_ok=True)\n",
    "(output_dir / \"negative\").mkdir(parents=True, exist_ok=True)\n",
    "\n",
    "# Detection threshold\n",
    "threshold = 0.5\n",
    "\n",
    "# Reuse images from dataset\n",
    "for img_path in image_files:\n",
    "    img = cv2.imread(str(img_path))\n",
    "    h, w = img.shape[:2]\n",
    "    blob = cv2.dnn.blobFromImage(img, size=(300, 300), swapRB=True, crop=False)\n",
    "    net.setInput(blob)\n",
    "    detections = net.forward()\n",
    "\n",
    "    detected = False\n",
    "    for detection in detections[0, 0]:\n",
    "        confidence = float(detection[2])\n",
    "        class_id = int(detection[1])\n",
    "\n",
    "        if confidence > threshold and class_id == target_index:\n",
    "            box = detection[3:7] * np.array([w, h, w, h])\n",
    "            (x1, y1, x2, y2) = box.astype(\"int\")\n",
    "            cv2.rectangle(img, (x1, y1), (x2, y2), (255, 0, 0), 2)\n",
    "            cv2.putText(img, target_class, (x1, y1-10), cv2.FONT_HERSHEY_SIMPLEX, 0.5, (255,0,0), 2)\n",
    "            detected = True\n",
    "\n",
    "    save_path = output_dir / (\"positive\" if detected else \"negative\") / img_path.name\n",
    "    cv2.imwrite(str(save_path), img)\n"
   ]
  },
  {
   "cell_type": "code",
   "execution_count": 4,
   "id": "6e5b9188-0094-4b5f-ac55-adf9406df8a3",
   "metadata": {},
   "outputs": [],
   "source": [
    "def evaluate_detection_results(manifest_file, output_positive_dir, output_negative_dir, title=\"Confusion Matrix\", save_path=None):\n",
    "    # Read the ground truth\n",
    "    with open(manifest_file, 'r') as f:\n",
    "        true_positives = set(line.strip() for line in f if line.strip())\n",
    "\n",
    "    # Get filenames from output folders\n",
    "    detected_positives = set(os.listdir(output_positive_dir))\n",
    "    detected_negatives = set(os.listdir(output_negative_dir))\n",
    "\n",
    "    # Create true and predicted labels\n",
    "    y_true = []\n",
    "    y_pred = []\n",
    "    all_filenames = detected_positives.union(detected_negatives)\n",
    "\n",
    "    for filename in all_filenames:\n",
    "        actual = 1 if filename in true_positives else 0\n",
    "        predicted = 1 if filename in detected_positives else 0\n",
    "        y_true.append(actual)\n",
    "        y_pred.append(predicted)\n",
    "\n",
    "    # Force labels to [0, 1] even if one is missing\n",
    "    cm = confusion_matrix(y_true, y_pred, labels=[0, 1])\n",
    "    disp = ConfusionMatrixDisplay(confusion_matrix=cm, display_labels=[\"Negative\", \"Positive\"])\n",
    "    disp.plot(cmap=\"Blues\")\n",
    "    plt.title(title)\n",
    "    plt.grid(False)\n",
    "\n",
    "    # Save plot if requested\n",
    "    if save_path:\n",
    "        plt.savefig(save_path, bbox_inches='tight')\n",
    "    plt.show()\n",
    "\n",
    "    # Print breakdown\n",
    "    tn, fp, fn, tp = cm.ravel()\n",
    "    print(f\"True Positives:  {tp}\")\n",
    "    print(f\"False Positives: {fp}\")\n",
    "    print(f\"False Negatives: {fn}\")\n",
    "    print(f\"True Negatives:  {tn}\")\n",
    "    return cm\n"
   ]
  },
  {
   "cell_type": "code",
   "execution_count": 5,
   "id": "848f141b-aa76-4d59-ba4e-d9902aa5a4e7",
   "metadata": {},
   "outputs": [
    {
     "data": {
      "image/png": "[encoded data removed]",
      "text/plain": [
       "<Figure size 432x288 with 2 Axes>"
      ]
     },
     "metadata": {
      "needs_background": "light"
     },
     "output_type": "display_data"
    },
    {
     "name": "stdout",
     "output_type": "stream",
     "text": [
      "True Positives:  30\n",
      "False Positives: 0\n",
      "False Negatives: 0\n",
      "True Negatives:  0\n"
     ]
    },
    {
     "data": {
      "text/plain": [
       "array([[ 0,  0],\n",
       "       [ 0, 30]], dtype=int64)"
      ]
     },
     "execution_count": 5,
     "metadata": {},
     "output_type": "execute_result"
    }
   ],
   "source": [
    "evaluate_detection_results(\n",
    "    manifest_file=\"resources-nn_dataset_1/nn_dataset_1_face_manifest.txt\",\n",
    "    output_positive_dir=\"./output/faces/positive\",\n",
    "    output_negative_dir=\"./output/faces/negative\",\n",
    "    title=\"Face Detection - Dataset 1\",\n",
    "    save_path=r\"./output/face_confusion_matrix.png\"\n",
    ")"
   ]
  },
  {
   "cell_type": "code",
   "execution_count": 6,
   "id": "b493d0aa-beaa-4d3f-8f9d-ed83daf6eb8c",
   "metadata": {},
   "outputs": [
    {
     "data": {
      "image/png": "[encoded data removed]",
      "text/plain": [
       "<Figure size 432x288 with 2 Axes>"
      ]
     },
     "metadata": {
      "needs_background": "light"
     },
     "output_type": "display_data"
    },
    {
     "name": "stdout",
     "output_type": "stream",
     "text": [
      "True Positives:  29\n",
      "False Positives: 0\n",
      "False Negatives: 1\n",
      "True Negatives:  0\n"
     ]
    },
    {
     "data": {
      "text/plain": [
       "array([[ 0,  0],\n",
       "       [ 1, 29]], dtype=int64)"
      ]
     },
     "execution_count": 6,
     "metadata": {},
     "output_type": "execute_result"
    }
   ],
   "source": [
    "evaluate_detection_results(\n",
    "    manifest_file=\"resources-nn_dataset_1/nn_dataset_1_person_manifest.txt\",\n",
    "    output_positive_dir=\"./output/persons/positive\",\n",
    "    output_negative_dir=\"./output/persons/negative\",\n",
    "    title=\"Person Detection - Dataset 1\",\n",
    "    save_path=r\"./output/person_confusion_matrix.png\"\n",
    ")"
   ]
  },
  {
   "cell_type": "code",
   "execution_count": null,
   "id": "ca7f2b90-ae9b-4dbd-b25a-bb8022237d7c",
   "metadata": {},
   "outputs": [],
   "source": []
  }
 ],
 "metadata": {
  "kernelspec": {
   "display_name": "Python [conda env:.conda-main] *",
   "language": "python",
   "name": "conda-env-.conda-main-py"
  },
  "language_info": {
   "codemirror_mode": {
    "name": "ipython",
    "version": 3
   },
   "file_extension": ".py",
   "mimetype": "text/x-python",
   "name": "python",
   "nbconvert_exporter": "python",
   "pygments_lexer": "ipython3",
   "version": "3.7.11"
  }
 },
 "nbformat": 4,
 "nbformat_minor": 5
}
